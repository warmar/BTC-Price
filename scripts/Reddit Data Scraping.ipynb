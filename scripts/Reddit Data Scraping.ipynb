{
 "cells": [
  {
   "cell_type": "code",
   "execution_count": 5,
   "metadata": {},
   "outputs": [
    {
     "name": "stdout",
     "output_type": "stream",
     "text": [
      "Sun Aug 14 10:14:40 2011  to  Mon Jul 17 18:34:53 2017\n"
     ]
    }
   ],
   "source": [
    "import praw\n",
    "import time\n",
    "\n",
    "SUBREDIT_NAME = 'bitcoin'\n",
    "START_TIMESTAMP = 1313331280\n",
    "END_TIMESTAMP = 1500330893\n",
    "print(time.ctime(START_TIMESTAMP), ' to ', time.ctime(END_TIMESTAMP))\n",
    "\n",
    "REDDIT_CLIENT_ID = '-oaj412g-c_iVg'\n",
    "REDDIT_CLIENT_SECRET = 'Qp7Vj5MHw42TeupmIPR_kwZpd-s'\n",
    "REDDIT_USER_AGENT = 'Mozilla/5.0 (Windows NT 10.0; Win64; x64) AppleWebKit/537.36 (KHTML, like Gecko) Chrome/61.0.3163.100 Safari/537.36'\n",
    "\n",
    "reddit = praw.Reddit(client_id=REDDIT_CLIENT_ID, client_secret=REDDIT_CLIENT_SECRET, user_agent=REDDIT_USER_AGENT)"
   ]
  },
  {
   "cell_type": "code",
   "execution_count": 3,
   "metadata": {},
   "outputs": [
    {
     "name": "stdout",
     "output_type": "stream",
     "text": [
      "10000 of 106220\n",
      "20000 of 106220\n",
      "30000 of 106220\n",
      "40000 of 106220\n",
      "50000 of 106220\n",
      "60000 of 106220\n",
      "70000 of 106220\n",
      "80000 of 106220\n",
      "90000 of 106220\n",
      "100000 of 106220\n",
      "1432013999.0\n"
     ]
    }
   ],
   "source": [
    "import os\n",
    "import time\n",
    "import pickle\n",
    "import praw\n",
    "\n",
    "oldest_time = time.time()\n",
    "files = os.listdir('post_data')[:-1]\n",
    "total = len(files)\n",
    "done = 0\n",
    "for file in files:\n",
    "    with open('post_data/%s' % file, 'rb') as post_file:\n",
    "        post = pickle.load(post_file)\n",
    "    post_time = post.created_utc\n",
    "    if post_time < oldest_time:\n",
    "        oldest_time = post_time\n",
    "        \n",
    "    done += 1\n",
    "    if done % 10000 == 0:\n",
    "        print('%s of %s' % (done, total))\n",
    "        \n",
    "print(oldest_time)"
   ]
  },
  {
   "cell_type": "code",
   "execution_count": 9,
   "metadata": {},
   "outputs": [],
   "source": [
    "import pickle\n",
    "import os\n",
    "import time\n",
    "import praw\n",
    "\n",
    "oldest_time = 1325179959.0\n",
    "\n",
    "x = reddit.subreddit(SUBREDIT_NAME).submissions(START_TIMESTAMP, min(END_TIMESTAMP, oldest_time))\n",
    "\n",
    "count = 0\n",
    "for post in x:\n",
    "    with open('post_data/%s' % post.id, 'wb') as post_file:\n",
    "        pickle.dump(post, post_file)\n",
    "    count += 1\n",
    "    if count % 1000 == 0:\n",
    "        print(time.ctime(post.created_utc), ' - ', post.created_utc)"
   ]
  },
  {
   "cell_type": "code",
   "execution_count": null,
   "metadata": {},
   "outputs": [],
   "source": []
  }
 ],
 "metadata": {
  "kernelspec": {
   "display_name": "Python 3",
   "language": "python",
   "name": "python3"
  },
  "language_info": {
   "codemirror_mode": {
    "name": "ipython",
    "version": 3
   },
   "file_extension": ".py",
   "mimetype": "text/x-python",
   "name": "python",
   "nbconvert_exporter": "python",
   "pygments_lexer": "ipython3",
   "version": "3.6.2"
  }
 },
 "nbformat": 4,
 "nbformat_minor": 2
}
